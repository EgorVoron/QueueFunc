{
  "nbformat": 4,
  "nbformat_minor": 0,
  "metadata": {
    "kernelspec": {
      "display_name": "Python 3",
      "language": "python",
      "name": "python3"
    },
    "language_info": {
      "codemirror_mode": {
        "name": "ipython",
        "version": 3
      },
      "file_extension": ".py",
      "mimetype": "text/x-python",
      "name": "python",
      "nbconvert_exporter": "python",
      "pygments_lexer": "ipython3",
      "version": "3.7.3"
    },
    "colab": {
      "name": "queue_func.ipynb",
      "provenance": [],
      "collapsed_sections": [],
      "include_colab_link": true
    }
  },
  "cells": [
    {
      "cell_type": "markdown",
      "metadata": {
        "id": "view-in-github",
        "colab_type": "text"
      },
      "source": [
        "<a href=\"https://colab.research.google.com/github/EgorVoron/QueueFunc/blob/master/queue_func.ipynb\" target=\"_parent\"><img src=\"https://colab.research.google.com/assets/colab-badge.svg\" alt=\"Open In Colab\"/></a>"
      ]
    },
    {
      "cell_type": "markdown",
      "metadata": {
        "id": "STq0ac0dWZFp",
        "colab_type": "text"
      },
      "source": [
        "# **Функция неотрицательной очереди**"
      ]
    },
    {
      "cell_type": "code",
      "metadata": {
        "id": "KxNrhaTgTtaQ",
        "colab_type": "code",
        "colab": {}
      },
      "source": [
        "import math\n",
        "from scipy.integrate import quad"
      ],
      "execution_count": 0,
      "outputs": []
    },
    {
      "cell_type": "markdown",
      "metadata": {
        "id": "DWHV6IDsTtaT",
        "colab_type": "text"
      },
      "source": [
        "**\"Выравнивающая\" функция**"
      ]
    },
    {
      "cell_type": "markdown",
      "metadata": {
        "id": "9F9J1ddOWTdU",
        "colab_type": "text"
      },
      "source": [
        "$$R\\left(x\\right)=\\max\\left(0,\\ x\\right)$$"
      ]
    },
    {
      "cell_type": "code",
      "metadata": {
        "id": "bVNp8-9JTtaU",
        "colab_type": "code",
        "colab": {}
      },
      "source": [
        "def R(x):\n",
        "    return max(0, x)"
      ],
      "execution_count": 0,
      "outputs": []
    },
    {
      "cell_type": "markdown",
      "metadata": {
        "id": "8Hd19hodWEjW",
        "colab_type": "text"
      },
      "source": [
        "**Функции f() и n() для примера**"
      ]
    },
    {
      "cell_type": "markdown",
      "metadata": {
        "id": "rqqOSxUrclT0",
        "colab_type": "text"
      },
      "source": [
        "f(t) - общее кол-во запросов в данный момент t  \n",
        "n(t) - производительность в данный момент t"
      ]
    },
    {
      "cell_type": "code",
      "metadata": {
        "id": "Ljrj-4OvTtaX",
        "colab_type": "code",
        "colab": {}
      },
      "source": [
        "def f(t):\n",
        "    \"\"\"общее кол-во запросов в данный момент\"\"\"\n",
        "    return ((t/5-1)**3+1)*5"
      ],
      "execution_count": 0,
      "outputs": []
    },
    {
      "cell_type": "code",
      "metadata": {
        "id": "21qQz3afTtaZ",
        "colab_type": "code",
        "colab": {}
      },
      "source": [
        "def n(t):\n",
        "    \"\"\"производительность в данный момент\"\"\"\n",
        "    return math.sin(5*t)/5+1"
      ],
      "execution_count": 0,
      "outputs": []
    },
    {
      "cell_type": "markdown",
      "metadata": {
        "id": "qs-jvG7AWnj8",
        "colab_type": "text"
      },
      "source": [
        "**Прирост очереди**"
      ]
    },
    {
      "cell_type": "markdown",
      "metadata": {
        "id": "FamB-nh0Wyoc",
        "colab_type": "text"
      },
      "source": [
        "$$\\frac{d}{dt}q\\left(t_{1}\\right)=R\\left(\\frac{d}{dt}f\\left(t_{1}\\right)-n\\left(t_{1}\\right)\\right)$$"
      ]
    },
    {
      "cell_type": "markdown",
      "metadata": {
        "id": "JbZpJc5fW3tq",
        "colab_type": "text"
      },
      "source": [
        "решая данное дифференциальное уравнение для действительных $$t_1 \\geqslant\t 0$$ получаем"
      ]
    },
    {
      "cell_type": "markdown",
      "metadata": {
        "id": "FR6hCf3wTtac",
        "colab_type": "text"
      },
      "source": [
        "**Функция очереди**"
      ]
    },
    {
      "cell_type": "markdown",
      "metadata": {
        "id": "WprlHzhVUqPq",
        "colab_type": "text"
      },
      "source": [
        "$$q\\left(t_{1}\\right)=R\\left(f\\left(t_{1}\\right)-\\int_{0}^{t_{1}}n\\left(t\\right)dt\\right)$$"
      ]
    },
    {
      "cell_type": "markdown",
      "metadata": {
        "id": "33M9TfHRZoZF",
        "colab_type": "text"
      },
      "source": [
        "Для наиболее \"реалистичного\" случая длина очереди должна быть целой (при этом интеграл производительности можеть быть и дробным), поэтому следует брать целую часть значения функции очереди. $$q\\left(t_{1}\\right)=\\lfloor(R\\left(f\\left(t_{1}\\right)-\\int_{0}^{t_{1}}n\\left(t\\right)dt\\right)\\rfloor$$"
      ]
    },
    {
      "cell_type": "markdown",
      "metadata": {
        "id": "saWmPzOkbOmg",
        "colab_type": "text"
      },
      "source": [
        "В коде рассмотрен случай неотрицательной действительной очереди"
      ]
    },
    {
      "cell_type": "code",
      "metadata": {
        "id": "LK8OQGycTtac",
        "colab_type": "code",
        "colab": {}
      },
      "source": [
        "def q(t):\n",
        "    \"\"\"длина очереди\"\"\"\n",
        "    return R(f(t) - quad(n, 0, t)[0])"
      ],
      "execution_count": 0,
      "outputs": []
    },
    {
      "cell_type": "markdown",
      "metadata": {
        "id": "T3S1zjWhTtae",
        "colab_type": "text"
      },
      "source": [
        "**График**"
      ]
    },
    {
      "cell_type": "code",
      "metadata": {
        "id": "N0Ko5EOvTtaf",
        "colab_type": "code",
        "colab": {}
      },
      "source": [
        "import matplotlib.pyplot as plt"
      ],
      "execution_count": 0,
      "outputs": []
    },
    {
      "cell_type": "code",
      "metadata": {
        "id": "iSkxnHmsTtai",
        "colab_type": "code",
        "colab": {}
      },
      "source": [
        "def get_data(f, x_min, x_max, num):\n",
        "    x_list, y_list = [], []\n",
        "    dx = (x_max-x_min)/num\n",
        "    i = x_min\n",
        "    while i <= x_max:\n",
        "        x_list.append(i)\n",
        "        y_list.append(f(i))\n",
        "        i += dx\n",
        "    return x_list, y_list"
      ],
      "execution_count": 0,
      "outputs": []
    },
    {
      "cell_type": "code",
      "metadata": {
        "scrolled": false,
        "id": "TMrL76uGTtak",
        "colab_type": "code",
        "colab": {
          "base_uri": "https://localhost:8080/",
          "height": 265
        },
        "outputId": "91b6db93-4283-4fce-fa4a-bc234790a22d"
      },
      "source": [
        "plt.plot(*get_data(q, 0, 14, 500))\n",
        "plt.show()"
      ],
      "execution_count": 8,
      "outputs": [
        {
          "output_type": "display_data",
          "data": {
            "image/png": "[encoded data removed]",
            "text/plain": [
              "<Figure size 432x288 with 1 Axes>"
            ]
          },
          "metadata": {
            "tags": [],
            "needs_background": "light"
          }
        }
      ]
    },
    {
      "cell_type": "code",
      "metadata": {
        "id": "l_ciXU91Ttao",
        "colab_type": "code",
        "colab": {}
      },
      "source": [
        ""
      ],
      "execution_count": 0,
      "outputs": []
    },
    {
      "cell_type": "markdown",
      "metadata": {
        "id": "sVwSnFy0XahR",
        "colab_type": "text"
      },
      "source": [
        "# **Общий случай очереди рациональной длины**"
      ]
    },
    {
      "cell_type": "markdown",
      "metadata": {
        "id": "l6iLEw-uYBy0",
        "colab_type": "text"
      },
      "source": [
        "Длина такой очереди может принимать любые действительные значения"
      ]
    },
    {
      "cell_type": "markdown",
      "metadata": {
        "id": "MMNHr9HyXqO8",
        "colab_type": "text"
      },
      "source": [
        "**Прирост очереди**"
      ]
    },
    {
      "cell_type": "markdown",
      "metadata": {
        "id": "ANrTO5pQXwv8",
        "colab_type": "text"
      },
      "source": [
        "$$\\frac{d}{dt}q\\left(t_{1}\\right)=\\frac{d}{dt}f\\left(t_{1}\\right)-n\\left(t_{1}\\right)$$"
      ]
    },
    {
      "cell_type": "markdown",
      "metadata": {
        "id": "SBH2xzqfX4Hz",
        "colab_type": "text"
      },
      "source": [
        "**Функция очереди рациональной длины**"
      ]
    },
    {
      "cell_type": "markdown",
      "metadata": {
        "id": "-m48qapsX861",
        "colab_type": "text"
      },
      "source": [
        "$$q\\left(t_{1}\\right)=f\\left(t_{1}\\right)-\\int_{0}^{t_{1}}n\\left(t\\right)dt$$"
      ]
    },
    {
      "cell_type": "code",
      "metadata": {
        "id": "u8BTAne8Xpi2",
        "colab_type": "code",
        "colab": {}
      },
      "source": [
        "def q_real(t):\n",
        "    \"\"\"длина очереди\"\"\"\n",
        "    return f(t) - quad(n, 0, t)[0]"
      ],
      "execution_count": 0,
      "outputs": []
    },
    {
      "cell_type": "markdown",
      "metadata": {
        "id": "rRWQP8ImtVIu",
        "colab_type": "text"
      },
      "source": [
        "**Очередь, накопившаяся с момента t_0 по момент t_1**"
      ]
    },
    {
      "cell_type": "markdown",
      "metadata": {
        "id": "Ffuqwiy7tuiG",
        "colab_type": "text"
      },
      "source": [
        "$$q\\left(t_{0,\\ }t_{1}\\right)=f\\left(t_{1}\\right)-f\\left(t_{0}\\right)-\\int_{t_{0}}^{t_{1}}n\\left(t\\right)dt$$"
      ]
    },
    {
      "cell_type": "markdown",
      "metadata": {
        "id": "GZ-xvJB_YUCK",
        "colab_type": "text"
      },
      "source": [
        "**График**"
      ]
    },
    {
      "cell_type": "code",
      "metadata": {
        "id": "A8P40HPBYU6G",
        "colab_type": "code",
        "colab": {
          "base_uri": "https://localhost:8080/",
          "height": 265
        },
        "outputId": "2d866729-98ca-48ab-eb39-d8bd93071d44"
      },
      "source": [
        "plt.plot(*get_data(q_real, 0, 14, 500))\n",
        "plt.show()"
      ],
      "execution_count": 11,
      "outputs": [
        {
          "output_type": "display_data",
          "data": {
            "image/png": "[encoded data removed]",
            "text/plain": [
              "<Figure size 432x288 with 1 Axes>"
            ]
          },
          "metadata": {
            "tags": [],
            "needs_background": "light"
          }
        }
      ]
    },
    {
      "cell_type": "code",
      "metadata": {
        "id": "1evD8qLJYdfK",
        "colab_type": "code",
        "colab": {}
      },
      "source": [
        ""
      ],
      "execution_count": 0,
      "outputs": []
    }
  ]
}